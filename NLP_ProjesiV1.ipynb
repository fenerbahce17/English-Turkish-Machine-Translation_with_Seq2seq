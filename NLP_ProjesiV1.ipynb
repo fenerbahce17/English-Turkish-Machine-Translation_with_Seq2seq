{
  "cells": [
    {
      "cell_type": "code",
      "execution_count": 22,
      "metadata": {
        "colab": {
          "base_uri": "https://localhost:8080/",
          "height": 36
        },
        "id": "O_VWSa342Y4b",
        "outputId": "9a3ae1cf-518b-4b91-e6ce-ee42a3b4bd65"
      },
      "outputs": [
        {
          "output_type": "execute_result",
          "data": {
            "text/plain": [
              "'2.18.0'"
            ],
            "application/vnd.google.colaboratory.intrinsic+json": {
              "type": "string"
            }
          },
          "metadata": {},
          "execution_count": 22
        }
      ],
      "source": [
        "import tensorflow as tf\n",
        "import numpy as np\n",
        "tf.__version__"
      ]
    },
    {
      "cell_type": "code",
      "execution_count": 37,
      "metadata": {
        "id": "8iVVM3tx2Y4d"
      },
      "outputs": [],
      "source": [
        "from tensorflow.keras.models import Model\n",
        "from tensorflow.keras.layers import Input, Dense, GRU, Embedding\n",
        "from tensorflow.keras.optimizers import RMSprop\n",
        "from tensorflow.keras.callbacks import ModelCheckpoint\n",
        "from tensorflow.keras.preprocessing.text import Tokenizer\n"
      ]
    },
    {
      "cell_type": "code",
      "execution_count": 24,
      "metadata": {
        "id": "p7otnyCa2Y4e"
      },
      "outputs": [],
      "source": [
        "mark_start = 'ssss ' #decoderın çıktı üretilmesi için start token gerekiyor\n",
        "mark_end = ' eeee'"
      ]
    },
    {
      "cell_type": "code",
      "execution_count": 25,
      "metadata": {
        "id": "pxc75GnI2Y4e"
      },
      "outputs": [],
      "source": [
        "data_src = []\n",
        "data_dest = []"
      ]
    },
    {
      "cell_type": "code",
      "execution_count": 26,
      "metadata": {
        "id": "cTNln-362Y4f"
      },
      "outputs": [],
      "source": [
        "for line in open('tur.txt', encoding='UTF-8'):\n",
        "    en_text, tr_text = line.rstrip().split('\\t')\n",
        "\n",
        "    tr_text = mark_start + tr_text + mark_end           #tur.text veri setindeki ingilizce ve türkçe veriler ayrıştırılır ve turkçe verilerin başına ve sonuna end start markları eklenir.\n",
        "\n",
        "    data_src.append(en_text)\n",
        "    data_dest.append(tr_text)"
      ]
    },
    {
      "cell_type": "code",
      "execution_count": 27,
      "metadata": {
        "colab": {
          "base_uri": "https://localhost:8080/",
          "height": 36
        },
        "id": "3Hp_Ylvw2Y4g",
        "outputId": "00a1f3c7-a85c-4ce3-b32d-86db2de6d591"
      },
      "outputs": [
        {
          "output_type": "execute_result",
          "data": {
            "text/plain": [
              "'I drove.'"
            ],
            "application/vnd.google.colaboratory.intrinsic+json": {
              "type": "string"
            }
          },
          "metadata": {},
          "execution_count": 27
        }
      ],
      "source": [
        "data_src[100]  #ayrıştırma işleminde sorun olup olmadığı kontrol edilir."
      ]
    },
    {
      "cell_type": "code",
      "execution_count": 28,
      "metadata": {
        "colab": {
          "base_uri": "https://localhost:8080/",
          "height": 36
        },
        "id": "2JWAeiin2Y4g",
        "outputId": "8eb466f1-64d1-46e7-833d-7192087ecf07"
      },
      "outputs": [
        {
          "output_type": "execute_result",
          "data": {
            "text/plain": [
              "'ssss Araba sürdüm. eeee'"
            ],
            "application/vnd.google.colaboratory.intrinsic+json": {
              "type": "string"
            }
          },
          "metadata": {},
          "execution_count": 28
        }
      ],
      "source": [
        "data_dest[100]"
      ]
    },
    {
      "cell_type": "code",
      "execution_count": 29,
      "metadata": {
        "colab": {
          "base_uri": "https://localhost:8080/",
          "height": 36
        },
        "id": "CTZt9ne12Y4h",
        "outputId": "27dd34a3-bbbc-4ab5-d81c-664cb402e1f9"
      },
      "outputs": [
        {
          "output_type": "execute_result",
          "data": {
            "text/plain": [
              "'Can you see anything missing?'"
            ],
            "application/vnd.google.colaboratory.intrinsic+json": {
              "type": "string"
            }
          },
          "metadata": {},
          "execution_count": 29
        }
      ],
      "source": [
        "data_src[200000]"
      ]
    },
    {
      "cell_type": "code",
      "execution_count": 30,
      "metadata": {
        "colab": {
          "base_uri": "https://localhost:8080/",
          "height": 36
        },
        "id": "J9gNS_X32Y4h",
        "outputId": "ef0d9fdf-95ee-4e2b-c4f4-427593618bf4"
      },
      "outputs": [
        {
          "output_type": "execute_result",
          "data": {
            "text/plain": [
              "'ssss Eksik bir şey görebiliyor musun? eeee'"
            ],
            "application/vnd.google.colaboratory.intrinsic+json": {
              "type": "string"
            }
          },
          "metadata": {},
          "execution_count": 30
        }
      ],
      "source": [
        "data_dest[200000]"
      ]
    },
    {
      "cell_type": "code",
      "execution_count": 31,
      "metadata": {
        "colab": {
          "base_uri": "https://localhost:8080/"
        },
        "id": "WXLMyMTU2Y4k",
        "outputId": "73ced314-7f01-460f-8eae-7e83cf32e3f6"
      },
      "outputs": [
        {
          "output_type": "execute_result",
          "data": {
            "text/plain": [
              "473035"
            ]
          },
          "metadata": {},
          "execution_count": 31
        }
      ],
      "source": [
        "len(data_src) #ingilizce verilerin uzunluğu kontrol edilir."
      ]
    },
    {
      "cell_type": "code",
      "execution_count": 32,
      "metadata": {
        "id": "tYXPUgqg2Y4l"
      },
      "outputs": [],
      "source": [
        "class TokenizerWrap(Tokenizer):  #Daha sonra yapılacak olan kullanımlarada kolaylık sağlanması amacıyla sınıflandırma kullanılmıştır.\n",
        "    def __init__(self, texts, padding, reverse=False, num_words=None):  #constructer kullanılarak tanımlanan her sınıf değeri için bir alt fonksiyon ile belirlenen parametrelerin uygun olması koşuluyla tokenizer işlemi gerçekleşir.\n",
        "        Tokenizer.__init__(self, num_words=num_words)\n",
        "\n",
        "        self.fit_on_texts(texts)\n",
        "\n",
        "        self.index_to_word = dict(zip(self.word_index.values(), self.word_index.keys()))\n",
        "\n",
        "        self.tokens = self.texts_to_sequences(texts)\n",
        "\n",
        "        if reverse:\n",
        "            self.tokens = [list(reversed(x)) for x in self.tokens] #padding işlemi uygulanır. Padding işlemi uygulanırken vectör oluşturulma durumunda cümlelerin ters dönme durumları göz önüne alınarak post ve pre olarak uygulanır.\n",
        "            truncating = 'pre'\n",
        "        else:\n",
        "            truncating = 'post'\n",
        "\n",
        "        self.num_tokens = [len(x) for x in self.tokens]\n",
        "        self.max_tokens = np.mean(self.num_tokens) + 2 * np.std(self.num_tokens) #İşlenicek cümleler uzunluklarının aynı olması gerektiği için tüm cümleleerin ortalama uzunlarına göre ideal uzunluk değeri hesaplanarak tüm cümleler o uzunluğa uygun olarak kesilir yada boş dolarak doldurulur.\n",
        "        self.max_tokens = int(self.max_tokens)\n",
        "\n",
        "        self.tokens_padded = pad_sequences(self.tokens,\n",
        "                                           maxlen=self.max_tokens,\n",
        "                                           padding=padding,\n",
        "                                           truncating=truncating)\n",
        "\n",
        "    def token_to_word(self, token):\n",
        "        word = ' ' if token == 0 else self.index_to_word[token]  #Decoderdan alınan tokenlerin kelimelere dönüştürme işleminin yapılması için uygun fonksiyon hazırlanır\n",
        "        return word\n",
        "\n",
        "    def tokens_to_string(self, tokens):\n",
        "        words = [self.index_to_word[token] for token in tokens if token != 0]\n",
        "        text = ' '.join(words)\n",
        "        return text\n",
        "\n",
        "    def text_to_tokens(self, text, padding, reverse=False):\n",
        "        tokens = self.texts_to_sequences([text])\n",
        "        tokens = np.array(tokens)\n",
        "\n",
        "        if reverse:                                             #Üst tarafta hazırlanan padding parametrelerinde olduğu gibi uygun post veya pre işlemine ve uzunluk belirleme işlemine göre uygun tokenizer işlemi yapılır.\n",
        "            tokens = np.flip(tokens, axis=1)\n",
        "            truncating = 'pre'\n",
        "        else:\n",
        "            truncating = 'post'\n",
        "\n",
        "        tokens = pad_sequences(tokens,\n",
        "                               maxlen=self.max_tokens,\n",
        "                               padding=padding,\n",
        "                               truncating=truncating)\n",
        "\n",
        "        return tokens"
      ]
    },
    {
      "cell_type": "code",
      "execution_count": 36,
      "metadata": {
        "id": "JGFcMEPV2Y4m"
      },
      "outputs": [],
      "source": [
        "from tensorflow.keras.preprocessing.sequence import pad_sequences\n",
        "\n",
        "tokenizer_src = TokenizerWrap(texts=data_src,  #Tokenleştirme işlemi yapılır.\n",
        "                              padding='pre',\n",
        "                              reverse=True,\n",
        "                              num_words=None)"
      ]
    },
    {
      "cell_type": "code",
      "execution_count": 38,
      "metadata": {
        "id": "_yAVB9YQ2Y4m"
      },
      "outputs": [],
      "source": [
        "tokenizer_dest = TokenizerWrap(texts=data_dest,\n",
        "                              padding='post',\n",
        "                              reverse=False,\n",
        "                              num_words=None)"
      ]
    },
    {
      "cell_type": "code",
      "execution_count": 39,
      "metadata": {
        "colab": {
          "base_uri": "https://localhost:8080/"
        },
        "id": "quPAmJra2Y4m",
        "outputId": "16df8f29-f5ae-4c0b-8335-aa556ef5f73b"
      },
      "outputs": [
        {
          "output_type": "stream",
          "name": "stdout",
          "text": [
            "(473035, 11)\n",
            "(473035, 10)\n"
          ]
        }
      ],
      "source": [
        "tokens_src = tokenizer_src.tokens_padded\n",
        "tokens_dest = tokenizer_dest.tokens_padded\n",
        "print(tokens_src.shape)\n",
        "print(tokens_dest.shape)"
      ]
    },
    {
      "cell_type": "code",
      "execution_count": 40,
      "metadata": {
        "colab": {
          "base_uri": "https://localhost:8080/"
        },
        "id": "0-hoqHx02Y4m",
        "outputId": "9f1904fb-35e8-4675-ed1b-259807db69d5"
      },
      "outputs": [
        {
          "output_type": "execute_result",
          "data": {
            "text/plain": [
              "array([   1, 2391,    4,   18, 4127,   48,    2,    0,    0,    0],\n",
              "      dtype=int32)"
            ]
          },
          "metadata": {},
          "execution_count": 40
        }
      ],
      "source": [
        "tokens_dest[200000] #Tokenleştirilme işlemi kontrol edilir."
      ]
    },
    {
      "cell_type": "code",
      "execution_count": 41,
      "metadata": {
        "colab": {
          "base_uri": "https://localhost:8080/",
          "height": 36
        },
        "id": "0b4-wGST2Y4n",
        "outputId": "5cdb95fd-82a4-4478-b72d-83087ad069e1"
      },
      "outputs": [
        {
          "output_type": "execute_result",
          "data": {
            "text/plain": [
              "'ssss eksik bir şey görebiliyor musun eeee'"
            ],
            "application/vnd.google.colaboratory.intrinsic+json": {
              "type": "string"
            }
          },
          "metadata": {},
          "execution_count": 41
        }
      ],
      "source": [
        "tokenizer_dest.tokens_to_string(tokens_dest[200000])"
      ]
    },
    {
      "cell_type": "code",
      "execution_count": 42,
      "metadata": {
        "colab": {
          "base_uri": "https://localhost:8080/"
        },
        "id": "BrHp3ogc2Y4n",
        "outputId": "a4d3b89a-7b52-4ec7-e35d-1284bf2507ff"
      },
      "outputs": [
        {
          "output_type": "execute_result",
          "data": {
            "text/plain": [
              "array([   0,    0,    0,    0,    0,    0, 1028,  113,   95,    5,   39],\n",
              "      dtype=int32)"
            ]
          },
          "metadata": {},
          "execution_count": 42
        }
      ],
      "source": [
        "tokens_src[200000]"
      ]
    },
    {
      "cell_type": "code",
      "execution_count": 43,
      "metadata": {
        "colab": {
          "base_uri": "https://localhost:8080/",
          "height": 36
        },
        "id": "l5TINizr2Y4n",
        "outputId": "a44e31d3-ca8e-4143-8485-23ae38d578c6"
      },
      "outputs": [
        {
          "output_type": "execute_result",
          "data": {
            "text/plain": [
              "'missing anything see you can'"
            ],
            "application/vnd.google.colaboratory.intrinsic+json": {
              "type": "string"
            }
          },
          "metadata": {},
          "execution_count": 43
        }
      ],
      "source": [
        "tokenizer_src.tokens_to_string(tokens_src[200000])"
      ]
    },
    {
      "cell_type": "code",
      "execution_count": 44,
      "metadata": {
        "colab": {
          "base_uri": "https://localhost:8080/",
          "height": 36
        },
        "id": "2csopJKv2Y4o",
        "outputId": "efe2b842-4244-4ff3-89c7-2fddf7c07a51"
      },
      "outputs": [
        {
          "output_type": "execute_result",
          "data": {
            "text/plain": [
              "'Can you see anything missing?'"
            ],
            "application/vnd.google.colaboratory.intrinsic+json": {
              "type": "string"
            }
          },
          "metadata": {},
          "execution_count": 44
        }
      ],
      "source": [
        "data_src[200000]"
      ]
    },
    {
      "cell_type": "code",
      "execution_count": 45,
      "metadata": {
        "colab": {
          "base_uri": "https://localhost:8080/"
        },
        "id": "MNXfEN3O2Y4o",
        "outputId": "b6eb4996-9764-4938-98d2-9b29b28036fb"
      },
      "outputs": [
        {
          "output_type": "execute_result",
          "data": {
            "text/plain": [
              "1"
            ]
          },
          "metadata": {},
          "execution_count": 45
        }
      ],
      "source": [
        "token_start = tokenizer_dest.word_index[mark_start.strip()]\n",
        "token_start   #Start ve end tokenleri kullanım sıkılığından dolayı 1 ve 2 değerlerini alır."
      ]
    },
    {
      "cell_type": "code",
      "execution_count": 46,
      "metadata": {
        "colab": {
          "base_uri": "https://localhost:8080/"
        },
        "id": "54_AYx7l2Y4o",
        "outputId": "2333e768-8330-40d1-d9db-fc6592c3185f"
      },
      "outputs": [
        {
          "output_type": "execute_result",
          "data": {
            "text/plain": [
              "2"
            ]
          },
          "metadata": {},
          "execution_count": 46
        }
      ],
      "source": [
        "token_end = tokenizer_dest.word_index[mark_end.strip()]\n",
        "token_end"
      ]
    },
    {
      "cell_type": "code",
      "execution_count": 47,
      "metadata": {
        "id": "l1nnGiM_2Y4o"
      },
      "outputs": [],
      "source": [
        "encoder_input_data = tokens_src #encoder input data tanımlanır."
      ]
    },
    {
      "cell_type": "code",
      "execution_count": 48,
      "metadata": {
        "id": "akF-54mJ2Y4o"
      },
      "outputs": [],
      "source": [
        "decoder_input_data = tokens_dest[:, :-1]\n",
        "decoder_output_data = tokens_dest[:, 1:]"
      ]
    },
    {
      "cell_type": "code",
      "execution_count": 49,
      "metadata": {
        "colab": {
          "base_uri": "https://localhost:8080/"
        },
        "id": "rbe9Abff2Y4p",
        "outputId": "a894b273-de2e-465d-a528-8adef5e8faa5"
      },
      "outputs": [
        {
          "output_type": "execute_result",
          "data": {
            "text/plain": [
              "array([   0,    0,    0,    0,    0,    0, 1028,  113,   95,    5,   39],\n",
              "      dtype=int32)"
            ]
          },
          "metadata": {},
          "execution_count": 49
        }
      ],
      "source": [
        "encoder_input_data[200000]"
      ]
    },
    {
      "cell_type": "code",
      "execution_count": 50,
      "metadata": {
        "colab": {
          "base_uri": "https://localhost:8080/"
        },
        "id": "Bg6iKjwt2Y4p",
        "outputId": "54bf7bfb-dd7e-4470-b98d-358fec85df85"
      },
      "outputs": [
        {
          "output_type": "execute_result",
          "data": {
            "text/plain": [
              "array([   1, 2391,    4,   18, 4127,   48,    2,    0,    0], dtype=int32)"
            ]
          },
          "metadata": {},
          "execution_count": 50
        }
      ],
      "source": [
        "decoder_input_data[200000]"
      ]
    },
    {
      "cell_type": "code",
      "execution_count": 51,
      "metadata": {
        "colab": {
          "base_uri": "https://localhost:8080/"
        },
        "id": "lBmwwMwV2Y4p",
        "outputId": "62b8b6b3-cc58-4c84-9ec1-e2d1b84d0c04"
      },
      "outputs": [
        {
          "output_type": "execute_result",
          "data": {
            "text/plain": [
              "array([2391,    4,   18, 4127,   48,    2,    0,    0,    0], dtype=int32)"
            ]
          },
          "metadata": {},
          "execution_count": 51
        }
      ],
      "source": [
        "decoder_output_data[200000]"
      ]
    },
    {
      "cell_type": "code",
      "execution_count": 52,
      "metadata": {
        "colab": {
          "base_uri": "https://localhost:8080/",
          "height": 36
        },
        "id": "810qF1qH2Y4q",
        "outputId": "f801504d-df7b-4e89-c207-4312fa446655"
      },
      "outputs": [
        {
          "output_type": "execute_result",
          "data": {
            "text/plain": [
              "'ssss eksik bir şey görebiliyor musun eeee'"
            ],
            "application/vnd.google.colaboratory.intrinsic+json": {
              "type": "string"
            }
          },
          "metadata": {},
          "execution_count": 52
        }
      ],
      "source": [
        "tokenizer_dest.tokens_to_string(decoder_input_data[200000])"
      ]
    },
    {
      "cell_type": "code",
      "execution_count": 53,
      "metadata": {
        "colab": {
          "base_uri": "https://localhost:8080/",
          "height": 36
        },
        "id": "6wptMunT2Y4q",
        "outputId": "2d483e37-4dd4-4dac-f5cf-38a43477b691"
      },
      "outputs": [
        {
          "output_type": "execute_result",
          "data": {
            "text/plain": [
              "'eksik bir şey görebiliyor musun eeee'"
            ],
            "application/vnd.google.colaboratory.intrinsic+json": {
              "type": "string"
            }
          },
          "metadata": {},
          "execution_count": 53
        }
      ],
      "source": [
        "tokenizer_dest.tokens_to_string(decoder_output_data[200000])"
      ]
    },
    {
      "cell_type": "code",
      "execution_count": 54,
      "metadata": {
        "id": "dNc4pJA42Y4q"
      },
      "outputs": [],
      "source": [
        "num_encoder_words = len(tokenizer_src.word_index)\n",
        "num_decoder_words = len(tokenizer_dest.word_index)"
      ]
    },
    {
      "cell_type": "code",
      "execution_count": 55,
      "metadata": {
        "colab": {
          "base_uri": "https://localhost:8080/"
        },
        "id": "gWMTj9rm2Y4q",
        "outputId": "7cc7d05d-f309-438d-a1d3-b5cb88ddd393"
      },
      "outputs": [
        {
          "output_type": "execute_result",
          "data": {
            "text/plain": [
              "21315"
            ]
          },
          "metadata": {},
          "execution_count": 55
        }
      ],
      "source": [
        "num_encoder_words"
      ]
    },
    {
      "cell_type": "code",
      "execution_count": 56,
      "metadata": {
        "colab": {
          "base_uri": "https://localhost:8080/"
        },
        "id": "hVs7jQfl2Y4q",
        "outputId": "fe5bf5d2-4e65-4358-81f3-06a3c8c1cbb7"
      },
      "outputs": [
        {
          "output_type": "execute_result",
          "data": {
            "text/plain": [
              "94058"
            ]
          },
          "metadata": {},
          "execution_count": 56
        }
      ],
      "source": [
        "num_decoder_words"
      ]
    },
    {
      "cell_type": "code",
      "execution_count": 57,
      "metadata": {
        "id": "QWH5VAiw2Y4r"
      },
      "outputs": [],
      "source": [
        "embedding_size = 100"
      ]
    },
    {
      "cell_type": "code",
      "source": [
        "from google.colab import drive\n",
        "drive.mount('/content/drive')"
      ],
      "metadata": {
        "colab": {
          "base_uri": "https://localhost:8080/"
        },
        "id": "AY_u6ZKH6s6r",
        "outputId": "fdcfa163-f7a7-4d7a-e33b-8e7e31d3fa82"
      },
      "execution_count": 58,
      "outputs": [
        {
          "output_type": "stream",
          "name": "stdout",
          "text": [
            "Mounted at /content/drive\n"
          ]
        }
      ]
    },
    {
      "cell_type": "code",
      "execution_count": 59,
      "metadata": {
        "id": "ddgP6R3D2Y4s"
      },
      "outputs": [],
      "source": [
        "word2vec = {}\n",
        "with open('/content/drive/MyDrive/glove.6B.100d.txt', encoding='UTF-8') as f: #Daha önceden hazırlanmış glove vectörüden alınan vectörler ve kelimeler  ayrılarak bir sözlük içinde saklanır.\n",
        "    for line in f:\n",
        "        values = line.split()\n",
        "        word = values[0]\n",
        "        vec = np.asarray(values[1:], dtype='float32')\n",
        "        word2vec[word] = vec"
      ]
    },
    {
      "cell_type": "code",
      "execution_count": 60,
      "metadata": {
        "id": "Y3RGfZXt2Y4s"
      },
      "outputs": [],
      "source": [
        "embedding_matrix = np.random.uniform(-1, 1, (num_encoder_words, embedding_size)) #Alınan token değerlerini vectöre dönüştürmek ve bu vectörlere göre layerları eğitmek için araya bir embedding  layer eklememiz gerekiyor.\n",
        "for word, i in tokenizer_src.word_index.items():\n",
        "    if i < num_encoder_words:\n",
        "        embedding_vector = word2vec.get(word)\n",
        "        if embedding_vector is not None:\n",
        "            embedding_matrix[i] = embedding_vector"
      ]
    },
    {
      "cell_type": "code",
      "execution_count": 61,
      "metadata": {
        "colab": {
          "base_uri": "https://localhost:8080/"
        },
        "id": "enAsGvCr2Y4s",
        "outputId": "4bb117f5-0920-4998-8f94-600e9c9ade0b"
      },
      "outputs": [
        {
          "output_type": "execute_result",
          "data": {
            "text/plain": [
              "(21315, 100)"
            ]
          },
          "metadata": {},
          "execution_count": 61
        }
      ],
      "source": [
        "embedding_matrix.shape"
      ]
    },
    {
      "cell_type": "code",
      "execution_count": 62,
      "metadata": {
        "id": "UqSNgQFc2Y4t"
      },
      "outputs": [],
      "source": [
        "encoder_input = Input(shape=(None,), name='encoder_input')"
      ]
    },
    {
      "cell_type": "code",
      "execution_count": 63,
      "metadata": {
        "id": "onhujowI2Y4t"
      },
      "outputs": [],
      "source": [
        "encoder_embedding = Embedding(input_dim=num_encoder_words, #Oluşturulan bu layerın encodera gelen kelimeleri alması ve 100 vectör uzunluğuna göre çevirmesi gerekiyor.\n",
        "                              output_dim=embedding_size,\n",
        "                              weights=[embedding_matrix],\n",
        "                              trainable=True,\n",
        "                              name='encoder_embedding')"
      ]
    },
    {
      "cell_type": "code",
      "execution_count": 64,
      "metadata": {
        "id": "qKMdCjlh2Y4t"
      },
      "outputs": [],
      "source": [
        "state_size = 256"
      ]
    },
    {
      "cell_type": "code",
      "execution_count": 65,
      "metadata": {
        "id": "ikDL49FP2Y4t"
      },
      "outputs": [],
      "source": [
        "encoder_gru1 = GRU(state_size, name='encoder_gru1', return_sequences=True)\n",
        "encoder_gru2 = GRU(state_size, name='encoder_gru2', return_sequences=True)  #Son layer  çıktı verdiği için son layer hariç diğer layerların eğitilebilr olması gerekiyor\n",
        "encoder_gru3 = GRU(state_size, name='encoder_gru3', return_sequences=False)"
      ]
    },
    {
      "cell_type": "code",
      "execution_count": 66,
      "metadata": {
        "id": "WJvvohEi2Y4v"
      },
      "outputs": [],
      "source": [
        "def connect_encoder():\n",
        "    net = encoder_input\n",
        "\n",
        "    net = encoder_embedding(net)  #Oluşturulan embedding ve encoder layerlarını birbirine bağlalıyoruz.\n",
        "\n",
        "    net = encoder_gru1(net)\n",
        "    net = encoder_gru2(net)\n",
        "    net = encoder_gru3(net)\n",
        "\n",
        "    encoder_output = net\n",
        "\n",
        "    return encoder_output"
      ]
    },
    {
      "cell_type": "code",
      "execution_count": 67,
      "metadata": {
        "id": "u6a7hRwf2Y4v"
      },
      "outputs": [],
      "source": [
        "encoder_output = connect_encoder()"
      ]
    },
    {
      "cell_type": "code",
      "execution_count": 68,
      "metadata": {
        "id": "YOy-bA6v2Y4v"
      },
      "outputs": [],
      "source": [
        "decoder_initial_state = Input(shape=(state_size,), name='decoder_initial_state')"
      ]
    },
    {
      "cell_type": "code",
      "execution_count": 69,
      "metadata": {
        "id": "3s6keYkw2Y4v"
      },
      "outputs": [],
      "source": [
        "decoder_input = Input(shape=(None,), name='decoder_input')"
      ]
    },
    {
      "cell_type": "code",
      "execution_count": 70,
      "metadata": {
        "id": "nlFqBrrD2Y4w"
      },
      "outputs": [],
      "source": [
        "decoder_embedding = Embedding(input_dim=num_decoder_words,\n",
        "                              output_dim=embedding_size,\n",
        "                              name='decoder_embedding')"
      ]
    },
    {
      "cell_type": "code",
      "execution_count": 71,
      "metadata": {
        "id": "6yt4PkXD2Y4w"
      },
      "outputs": [],
      "source": [
        "decoder_gru1 = GRU(state_size, name='decoder_gru1', return_sequences=True)\n",
        "decoder_gru2 = GRU(state_size, name='decoder_gru2', return_sequences=True)  #Son layerdan sonra bir dens edaha ekleyeceğimiz için hepsi eğitilebilir olabilir.\n",
        "decoder_gru3 = GRU(state_size, name='decoder_gru3', return_sequences=True)"
      ]
    },
    {
      "cell_type": "code",
      "execution_count": 72,
      "metadata": {
        "id": "ZbSxGrlC2Y4w"
      },
      "outputs": [],
      "source": [
        "decoder_dense = Dense(num_decoder_words,\n",
        "                      activation='linear', #En son katmana bir lineer layer ekleyerek çıktı alıyoruz.\n",
        "                      name='decoder_output')"
      ]
    },
    {
      "cell_type": "code",
      "execution_count": 73,
      "metadata": {
        "id": "yHtnD7Tl2Y4w"
      },
      "outputs": [],
      "source": [
        "def connect_decoder(initial_state):\n",
        "    net = decoder_input\n",
        "\n",
        "    net = decoder_embedding(net)\n",
        "\n",
        "    net = decoder_gru1(net, initial_state=initial_state)\n",
        "    net = decoder_gru2(net, initial_state=initial_state)\n",
        "    net = decoder_gru3(net, initial_state=initial_state)\n",
        "\n",
        "    decoder_output = decoder_dense(net)\n",
        "\n",
        "    return decoder_output"
      ]
    },
    {
      "cell_type": "code",
      "execution_count": 74,
      "metadata": {
        "id": "8BIiMe_Q2Y4w"
      },
      "outputs": [],
      "source": [
        "decoder_output = connect_decoder(initial_state=encoder_output)\n",
        "\n",
        "model_train = Model(inputs=[encoder_input, decoder_input], outputs=[decoder_output]) #Modellerin eğitim sırasında uygun sırada verileri alıp eğitilmesi için modellerin çıktılarının ve girdilerinin birbirine bağlı olması gerekiyor."
      ]
    },
    {
      "cell_type": "code",
      "execution_count": 75,
      "metadata": {
        "id": "TnzSYAK32Y4x"
      },
      "outputs": [],
      "source": [
        "model_encoder = Model(inputs=[encoder_input], outputs=[encoder_output])"
      ]
    },
    {
      "cell_type": "code",
      "execution_count": 76,
      "metadata": {
        "id": "mHxVooHp2Y4x"
      },
      "outputs": [],
      "source": [
        "decoder_output = connect_decoder(initial_state=decoder_initial_state)\n",
        "\n",
        "model_decoder = Model(inputs=[decoder_input, decoder_initial_state], outputs=[decoder_output])"
      ]
    },
    {
      "cell_type": "code",
      "execution_count": 92,
      "metadata": {
        "id": "GstEc7Ba2Y4x"
      },
      "outputs": [],
      "source": [
        "def sparse_cross_entropy(y_true, y_pred):\n",
        "    # y_true'yu int32’ye çeviriyoruz\n",
        "    y_true = tf.cast(y_true, tf.int32)\n",
        "    loss = tf.nn.sparse_softmax_cross_entropy_with_logits(\n",
        "        labels=y_true,\n",
        "        logits=y_pred\n",
        "    )\n",
        "    return tf.reduce_mean(loss)\n"
      ]
    },
    {
      "cell_type": "code",
      "execution_count": 93,
      "metadata": {
        "id": "74M3OrTt2Y4x"
      },
      "outputs": [],
      "source": [
        "from tensorflow.keras.optimizers import RMSprop\n",
        "\n",
        "optimizer = RMSprop(learning_rate=1e-3)\n",
        " #Uygun optimizer değeri verildi."
      ]
    },
    {
      "cell_type": "code",
      "execution_count": 94,
      "metadata": {
        "id": "fW0ipnT62Y4y"
      },
      "outputs": [],
      "source": [
        "from tensorflow.keras.layers import Input\n",
        "\n",
        "decoder_target = Input(shape=(None,), dtype='int32', name='decoder_target')\n"
      ]
    },
    {
      "cell_type": "markdown",
      "metadata": {
        "id": "bET-sdDk2Y4z"
      },
      "source": [
        "model_train.compile(optimizer=optimizer,\n",
        "                    loss=sparse_cross_entropy,\n",
        "                    target_tensors=[decoder_target])"
      ]
    },
    {
      "cell_type": "code",
      "execution_count": 95,
      "metadata": {
        "id": "YxqzKAJG2Y40"
      },
      "outputs": [],
      "source": [
        "path_checkpoint = 'checkpoint.weights.h5'   #Daha sonradan kullanım kolaylığı olması açısından kayıt işlemi eklendi.\n",
        "checkpoint = ModelCheckpoint(filepath=path_checkpoint, save_weights_only=True)"
      ]
    },
    {
      "cell_type": "code",
      "execution_count": 96,
      "metadata": {
        "colab": {
          "base_uri": "https://localhost:8080/"
        },
        "id": "3qFd6AfF2Y40",
        "outputId": "e3b214b7-2219-4d00-f413-1a7bfa86bdf9"
      },
      "outputs": [
        {
          "output_type": "stream",
          "name": "stdout",
          "text": [
            "Checkpoint yüklenirken hata oluştu. Eğitime sıfırdan başlanıyor.\n",
            "[Errno 2] Unable to synchronously open file (unable to open file: name = 'checkpoint.weights.h5', errno = 2, error message = 'No such file or directory', flags = 0, o_flags = 0)\n"
          ]
        }
      ],
      "source": [
        "try:\n",
        "    model_train.load_weights(path_checkpoint)\n",
        "except Exception as error:\n",
        "    print('Checkpoint yüklenirken hata oluştu. Eğitime sıfırdan başlanıyor.')\n",
        "    print(error)"
      ]
    },
    {
      "cell_type": "code",
      "execution_count": 97,
      "metadata": {
        "id": "aQSITwi52Y41"
      },
      "outputs": [],
      "source": [
        "x_data = {'encoder_input': encoder_input_data, 'decoder_input': decoder_input_data} #İnputlar ve outputlar belirlendi."
      ]
    },
    {
      "cell_type": "code",
      "execution_count": 98,
      "metadata": {
        "id": "o2mXfDGS2Y41"
      },
      "outputs": [],
      "source": [
        "y_data = {'decoder_output': decoder_output_data}"
      ]
    },
    {
      "cell_type": "code",
      "execution_count": 100,
      "metadata": {
        "colab": {
          "base_uri": "https://localhost:8080/"
        },
        "id": "qBse_Snj2Y41",
        "outputId": "fcf59462-50b6-479e-aaa6-7711da766dae"
      },
      "outputs": [
        {
          "output_type": "stream",
          "name": "stdout",
          "text": [
            "Epoch 1/2\n",
            "\u001b[1m7392/7392\u001b[0m \u001b[32m━━━━━━━━━━━━━━━━━━━━\u001b[0m\u001b[37m\u001b[0m \u001b[1m1640s\u001b[0m 222ms/step - loss: 4.0181\n",
            "Epoch 2/2\n",
            "\u001b[1m7392/7392\u001b[0m \u001b[32m━━━━━━━━━━━━━━━━━━━━\u001b[0m\u001b[37m\u001b[0m \u001b[1m1635s\u001b[0m 221ms/step - loss: 2.6246\n"
          ]
        },
        {
          "output_type": "execute_result",
          "data": {
            "text/plain": [
              "<keras.src.callbacks.history.History at 0x7ba5189b1e90>"
            ]
          },
          "metadata": {},
          "execution_count": 100
        }
      ],
      "source": [
        "# 1) Modeli derleyin (bir kez, fit()'ten önce)\n",
        "model_train.compile(\n",
        "    optimizer=optimizer,\n",
        "    loss=sparse_cross_entropy\n",
        ")\n",
        "\n",
        "# 2) Girdi ve çıktı dizilerini kesinlikle integer tipine dönüştürün\n",
        "encoder_input_data = encoder_input_data.astype('int32')\n",
        "decoder_input_data = decoder_input_data.astype('int32')\n",
        "decoder_output_data = decoder_output_data.astype('int32')\n",
        "\n",
        "# 3) Eğitim çağrısını şu şekilde yapın (dict yerine liste+array kullanıyoruz)\n",
        "model_train.fit(\n",
        "    x=[encoder_input_data, decoder_input_data],\n",
        "    y=decoder_output_data,\n",
        "    batch_size=64,\n",
        "    epochs=2,\n",
        "    callbacks=[checkpoint]\n",
        ")\n"
      ]
    },
    {
      "cell_type": "code",
      "execution_count": 103,
      "metadata": {
        "id": "WtkB_hPU2Y42"
      },
      "outputs": [],
      "source": [
        "def translate(input_text, true_output_text=None):\n",
        "    # 1) Girdi cümleyi token’lara çevir\n",
        "    input_tokens = tokenizer_src.text_to_tokens(\n",
        "        text=input_text,\n",
        "        reverse=True,\n",
        "        padding='pre'\n",
        "    )\n",
        "\n",
        "    # 2) Encoder’dan state alırken liste içinde veriyoruz\n",
        "    initial_state = model_encoder.predict([input_tokens])\n",
        "\n",
        "    max_tokens = tokenizer_dest.max_tokens\n",
        "    # 3) np.int kaldırıldı, yerine Python int kullanıldı\n",
        "    decoder_input_data = np.zeros(shape=(1, max_tokens), dtype=int)\n",
        "\n",
        "    token_int = token_start\n",
        "    output_text = ''\n",
        "    count_tokens = 0\n",
        "\n",
        "    while token_int != token_end and count_tokens < max_tokens:\n",
        "        decoder_input_data[0, count_tokens] = token_int\n",
        "\n",
        "        # 4) Decoder’a da liste halinde veriyoruz\n",
        "        decoder_output = model_decoder.predict([decoder_input_data, initial_state])\n",
        "\n",
        "        token_onehot = decoder_output[0, count_tokens, :]\n",
        "        token_int = np.argmax(token_onehot)\n",
        "\n",
        "        sampled_word = tokenizer_dest.token_to_word(token_int)\n",
        "        output_text += ' ' + sampled_word\n",
        "        count_tokens += 1\n",
        "\n",
        "    print('Input text:')\n",
        "    print(input_text, '\\n')\n",
        "\n",
        "    print('Translated text:')\n",
        "    print(output_text, '\\n')\n",
        "\n",
        "    if true_output_text is not None:\n",
        "        print('True output text:')\n",
        "        print(true_output_text, '\\n')\n"
      ]
    },
    {
      "cell_type": "code",
      "execution_count": 106,
      "metadata": {
        "colab": {
          "base_uri": "https://localhost:8080/"
        },
        "id": "9xjSdKxb2Y42",
        "outputId": "023be3c7-1d96-45a7-b8d5-8507758206da"
      },
      "outputs": [
        {
          "output_type": "stream",
          "name": "stdout",
          "text": [
            "\u001b[1m1/1\u001b[0m \u001b[32m━━━━━━━━━━━━━━━━━━━━\u001b[0m\u001b[37m\u001b[0m \u001b[1m0s\u001b[0m 29ms/step\n",
            "\u001b[1m1/1\u001b[0m \u001b[32m━━━━━━━━━━━━━━━━━━━━\u001b[0m\u001b[37m\u001b[0m \u001b[1m0s\u001b[0m 32ms/step\n",
            "\u001b[1m1/1\u001b[0m \u001b[32m━━━━━━━━━━━━━━━━━━━━\u001b[0m\u001b[37m\u001b[0m \u001b[1m0s\u001b[0m 35ms/step\n",
            "\u001b[1m1/1\u001b[0m \u001b[32m━━━━━━━━━━━━━━━━━━━━\u001b[0m\u001b[37m\u001b[0m \u001b[1m0s\u001b[0m 35ms/step\n",
            "\u001b[1m1/1\u001b[0m \u001b[32m━━━━━━━━━━━━━━━━━━━━\u001b[0m\u001b[37m\u001b[0m \u001b[1m0s\u001b[0m 42ms/step\n",
            "\u001b[1m1/1\u001b[0m \u001b[32m━━━━━━━━━━━━━━━━━━━━\u001b[0m\u001b[37m\u001b[0m \u001b[1m0s\u001b[0m 90ms/step\n",
            "\u001b[1m1/1\u001b[0m \u001b[32m━━━━━━━━━━━━━━━━━━━━\u001b[0m\u001b[37m\u001b[0m \u001b[1m0s\u001b[0m 67ms/step\n",
            "Input text:\n",
            "Tom will certainly try to do that. \n",
            "\n",
            "Translated text:\n",
            " tom kesinlikle bunu yapmak zorunda eeee \n",
            "\n",
            "True output text:\n",
            "ssss Tom kesinlikle onu yapmaya çalışacak. eeee \n",
            "\n"
          ]
        }
      ],
      "source": [
        "translate(input_text=data_src[300000], true_output_text=data_dest[300000]) #Çıktılar orjinal değerlere göre kontrol edilir."
      ]
    },
    {
      "cell_type": "code",
      "execution_count": 115,
      "metadata": {
        "colab": {
          "base_uri": "https://localhost:8080/"
        },
        "id": "LPJGQg2h2Y42",
        "outputId": "5178422d-7d50-44f3-b0af-76f90641fa07"
      },
      "outputs": [
        {
          "output_type": "stream",
          "name": "stdout",
          "text": [
            "\u001b[1m1/1\u001b[0m \u001b[32m━━━━━━━━━━━━━━━━━━━━\u001b[0m\u001b[37m\u001b[0m \u001b[1m0s\u001b[0m 30ms/step\n",
            "\u001b[1m1/1\u001b[0m \u001b[32m━━━━━━━━━━━━━━━━━━━━\u001b[0m\u001b[37m\u001b[0m \u001b[1m0s\u001b[0m 34ms/step\n",
            "\u001b[1m1/1\u001b[0m \u001b[32m━━━━━━━━━━━━━━━━━━━━\u001b[0m\u001b[37m\u001b[0m \u001b[1m0s\u001b[0m 34ms/step\n",
            "\u001b[1m1/1\u001b[0m \u001b[32m━━━━━━━━━━━━━━━━━━━━\u001b[0m\u001b[37m\u001b[0m \u001b[1m0s\u001b[0m 34ms/step\n",
            "\u001b[1m1/1\u001b[0m \u001b[32m━━━━━━━━━━━━━━━━━━━━\u001b[0m\u001b[37m\u001b[0m \u001b[1m0s\u001b[0m 33ms/step\n",
            "Input text:\n",
            "What do you know about ? \n",
            "\n",
            "Translated text:\n",
            " ne hakkında biliyorsun eeee \n",
            "\n"
          ]
        }
      ],
      "source": [
        "translate(input_text='What do you know about ?')"
      ]
    },
    {
      "cell_type": "code",
      "execution_count": 110,
      "metadata": {
        "colab": {
          "base_uri": "https://localhost:8080/"
        },
        "id": "Jq90-Rrx2Y42",
        "outputId": "7d41f21c-8fee-4ca3-ba7f-2236ca11fc7e"
      },
      "outputs": [
        {
          "output_type": "stream",
          "name": "stderr",
          "text": [
            "WARNING:absl:You are saving your model as an HDF5 file via `model.save()` or `keras.saving.save_model(model)`. This file format is considered legacy. We recommend using instead the native Keras format, e.g. `model.save('my_model.keras')` or `keras.saving.save_model(model, 'my_model.keras')`. \n"
          ]
        }
      ],
      "source": [
        "# H5 formatında:\n",
        "model_train.save('seq2seq_model.h5')\n",
        "\n"
      ]
    }
  ],
  "metadata": {
    "kernelspec": {
      "display_name": "yeni",
      "language": "python",
      "name": "yeni"
    },
    "language_info": {
      "codemirror_mode": {
        "name": "ipython",
        "version": 3
      },
      "file_extension": ".py",
      "mimetype": "text/x-python",
      "name": "python",
      "nbconvert_exporter": "python",
      "pygments_lexer": "ipython3",
      "version": "3.10.9"
    },
    "colab": {
      "provenance": [],
      "gpuType": "T4"
    },
    "accelerator": "GPU"
  },
  "nbformat": 4,
  "nbformat_minor": 0
}